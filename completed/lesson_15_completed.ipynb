{
 "cells": [
  {
   "cell_type": "markdown",
   "metadata": {},
   "source": [
    "# Lesson 15\n",
    "\n",
    "# Project Presentations and Project Help\n",
    "\n",
    "\n",
    "\n",
    "![http://www.pratt.edu/tiny_mce/plugins/imagemanager/files/Light_brown_blue22.jpg](http://www.pratt.edu/tiny_mce/plugins/imagemanager/files/Light_brown_blue22.jpg)\n",
    "\n",
    "# Class Links\n",
    "\n",
    "* [Syllabus](https://docs.google.com/document/d/1KHxT-NkaoXXdSNkK8JlzL2FFgmNoxPQ25fwgtXPnbrY)\n",
    "\n",
    "* [Class Google Spreadsheet](https://docs.google.com/spreadsheets/d/1t481r7HjQBbjNtFOABSOlcckzQhdrh12TCzpSYKurI0/edit?usp=sharing)\n",
    "\n",
    "* [Google Meetup Video Hangout](https://meet.google.com/aym-kxae-bzr)\n",
    "\n",
    "  * For United States Dial +1 \n",
    "    * (669) 220-6376\n",
    "  * Enter this PIN when prompted: \n",
    "    * 891 126 706 #\n",
    "  \n",
    "* [GitHub Organization](https://github.com/pratt-savi-810)\n",
    "\n",
    "* [Slack Organization](https://app.slack.com/client/T01068MA75X/C010J3Q2QET)\n",
    "\n",
    "* [Resources](https://github.com/pratt-savi-810/resources)"
   ]
  },
  {
   "cell_type": "markdown",
   "metadata": {
    "toc": true
   },
   "source": [
    "<h1>Table of Contents<span class=\"tocSkip\"></span></h1>\n",
    "<div class=\"toc\"><ul class=\"toc-item\"><li><span><a href=\"#Lesson-15\" data-toc-modified-id=\"Lesson-15-1\">Lesson 15</a></span></li><li><span><a href=\"#Project-Presentations-and-Project-Help\" data-toc-modified-id=\"Project-Presentations-and-Project-Help-2\">Project Presentations and Project Help</a></span></li><li><span><a href=\"#Class-Links\" data-toc-modified-id=\"Class-Links-3\">Class Links</a></span></li><li><span><a href=\"#Learning-Objectives\" data-toc-modified-id=\"Learning-Objectives-4\">Learning Objectives</a></span><ul class=\"toc-item\"><li><ul class=\"toc-item\"><li><span><a href=\"#Fork-and-Clone-this-Lesson-Repo\" data-toc-modified-id=\"Fork-and-Clone-this-Lesson-Repo-4.0.1\">Fork and Clone this Lesson Repo</a></span></li></ul></li></ul></li><li><span><a href=\"#Import-Libraries\" data-toc-modified-id=\"Import-Libraries-5\">Import Libraries</a></span></li><li><span><a href=\"#Project-Repositories\" data-toc-modified-id=\"Project-Repositories-6\">Project Repositories</a></span></li><li><span><a href=\"#Instructor-To-Do\" data-toc-modified-id=\"Instructor-To-Do-7\">Instructor To Do</a></span></li><li><span><a href=\"#Your-To-Do's\" data-toc-modified-id=\"Your-To-Do's-8\">Your To Do's</a></span><ul class=\"toc-item\"><li><ul class=\"toc-item\"><li><span><a href=\"#One-is-Getting-Started-with-ArcPy-(GIS-Python-Library)-for-ArcGIS-Desktop\" data-toc-modified-id=\"One-is-Getting-Started-with-ArcPy-(GIS-Python-Library)-for-ArcGIS-Desktop-8.0.1\">One is <em>Getting Started with ArcPy (GIS Python Library) for ArcGIS Desktop</em></a></span></li><li><span><a href=\"#And-the-other-is-Using-ArcPy-(ArcGIS-Desktop-Python-Library)-in-PyCharm\" data-toc-modified-id=\"And-the-other-is-Using-ArcPy-(ArcGIS-Desktop-Python-Library)-in-PyCharm-8.0.2\">And the other is <em>Using ArcPy (ArcGIS Desktop Python Library) in PyCharm</em></a></span></li></ul></li></ul></li></ul></div>"
   ]
  },
  {
   "cell_type": "markdown",
   "metadata": {},
   "source": [
    "# Learning Objectives\n",
    "\n",
    "* Project Presentations\n",
    "* Project Help\n",
    "\n",
    "\n",
    "### Fork and Clone this Lesson Repo\n",
    "\n",
    "https://github.com/pratt-savi-810/pratt-savi-810-2020-03-lesson_15\n",
    "\n",
    "\n"
   ]
  },
  {
   "cell_type": "markdown",
   "metadata": {},
   "source": [
    "# Import Libraries\n",
    "\n",
    "Let's `import` some of the libraries we've already used. "
   ]
  },
  {
   "cell_type": "code",
   "execution_count": 4,
   "metadata": {},
   "outputs": [],
   "source": [
    "import os\n",
    "import sys\n",
    "module_path = os.path.abspath(os.path.join('..'))\n",
    "if module_path not in sys.path:\n",
    "    sys.path.append(module_path)\n",
    "    \n",
    "\n",
    "from IPython.display import IFrame\n",
    "import pandas as pd\n",
    "import geopandas as gpd\n",
    "import matplotlib.pyplot as plt\n",
    "import numpy as np\n",
    "import missingno as msno\n",
    "import seaborn as sns\n",
    "import matplotlib.patches as patches\n",
    "import warnings\n",
    "import networkx as nx\n",
    "import osmnx as ox\n",
    "import requests\n",
    "import matplotlib.cm as cm\n",
    "import matplotlib.colors as colors\n",
    "ox.config(use_cache=True, log_console=True) \n",
    "warnings.filterwarnings('ignore')\n",
    "warnings.simplefilter('ignore')\n",
    "from IPython.display import IFrame\n",
    "\n",
    "\n",
    "%matplotlib inline\n",
    "%load_ext autoreload\n",
    "%autoreload 2\n",
    "\n",
    "# IFrame(src='https://commons.pratt.edu/savi/', width=700, height=400)"
   ]
  },
  {
   "cell_type": "markdown",
   "metadata": {},
   "source": [
    "# Project Repositories\n",
    "\n",
    "* https://github.com/eichners/python-project\n",
    "* https://github.com/annaguidi/citibike_ridership_timelapse\n",
    "* https://github.com/rogerlhelms888/final_project\n",
    "* https://github.com/katkim0307/COVID-19_Response_Comparison\n",
    "* https://github.com/taikingm/gtfs_mapping"
   ]
  },
  {
   "cell_type": "markdown",
   "metadata": {},
   "source": [
    "# Instructor To Do \n",
    "\n",
    "* Review your Repository and create GitHub Issues in your Repository for edits\n",
    "* Send a wrap-up email with Resources of things we didn't cover. \n",
    "* Create Thumbnails in our main Course Repo to provide context and Links for each of our Lessons\n",
    "* <ADD IN> \n",
    "\n",
    "\n",
    "# Your To Do's \n",
    "\n",
    "* Clean up your Repository\n",
    "  * a well-organized README.md as well as \n",
    "  * no scratch code outside of a scratch folder. \n",
    "\n",
    "* Can anyone pick up your code/repository and run it? \n",
    " "
   ]
  },
  {
   "cell_type": "markdown",
   "metadata": {},
   "source": [
    "Class, as promised, for *ArcGIS* Desktop users, I've uploaded two videos. \n",
    "\n",
    "### One is *Getting Started with ArcPy (GIS Python Library) for ArcGIS Desktop*\n",
    "https://youtu.be/FawglRpsIdg\n",
    "\n",
    "### And the other is *Using ArcPy (ArcGIS Desktop Python Library) in PyCharm*\n",
    "https://youtu.be/qqV62bOX2Lw\n",
    "\n",
    "One thing of note is that ArcGIS Pro deprecated `arcpy.mapping` in favor of a new mapping library called `arcpy.mp`, read more on it here: https://pro.arcgis.com/en/pro-app/arcpy/mapping/introduction-to-arcpy-mp.htm\n",
    "\n",
    "You'll need to give it a few mins or an hour so the higher-definition video renders on YouTube. "
   ]
  },
  {
   "cell_type": "code",
   "execution_count": null,
   "metadata": {},
   "outputs": [],
   "source": []
  }
 ],
 "metadata": {
  "kernelspec": {
   "display_name": "Python 3",
   "language": "python",
   "name": "python3"
  },
  "language_info": {
   "codemirror_mode": {
    "name": "ipython",
    "version": 3
   },
   "file_extension": ".py",
   "mimetype": "text/x-python",
   "name": "python",
   "nbconvert_exporter": "python",
   "pygments_lexer": "ipython3",
   "version": "3.7.7"
  },
  "toc": {
   "base_numbering": 1,
   "nav_menu": {},
   "number_sections": false,
   "sideBar": true,
   "skip_h1_title": false,
   "title_cell": "Table of Contents",
   "title_sidebar": "Contents",
   "toc_cell": true,
   "toc_position": {},
   "toc_section_display": true,
   "toc_window_display": false
  }
 },
 "nbformat": 4,
 "nbformat_minor": 4
}
